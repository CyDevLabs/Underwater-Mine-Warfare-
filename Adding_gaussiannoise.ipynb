{
  "nbformat": 4,
  "nbformat_minor": 0,
  "metadata": {
    "colab": {
      "provenance": [],
      "authorship_tag": "ABX9TyNC8VX6hecJg7qldFpsdK/z",
      "include_colab_link": true
    },
    "kernelspec": {
      "name": "python3",
      "display_name": "Python 3"
    },
    "language_info": {
      "name": "python"
    }
  },
  "cells": [
    {
      "cell_type": "markdown",
      "metadata": {
        "id": "view-in-github",
        "colab_type": "text"
      },
      "source": [
        "<a href=\"https://colab.research.google.com/github/chathuray/Mini-Research-Project/blob/main/Adding_gaussiannoise.ipynb\" target=\"_parent\"><img src=\"https://colab.research.google.com/assets/colab-badge.svg\" alt=\"Open In Colab\"/></a>"
      ]
    },
    {
      "cell_type": "code",
      "execution_count": 3,
      "metadata": {
        "colab": {
          "base_uri": "https://localhost:8080/"
        },
        "id": "NX--O7H0bHIs",
        "outputId": "3a37ea0d-882e-4d52-ab20-8dfcc82a72f4"
      },
      "outputs": [
        {
          "output_type": "stream",
          "name": "stdout",
          "text": [
            "Drive already mounted at /content/drive; to attempt to forcibly remount, call drive.mount(\"/content/drive\", force_remount=True).\n"
          ]
        }
      ],
      "source": [
        "import numpy as np\n",
        "import cv2\n",
        "from google.colab import drive\n",
        "\n",
        "# Mount Google Drive\n",
        "drive.mount('/content/drive')\n",
        "\n",
        "# Load an image set stored in Google Drive\n",
        "image_path = \"/content/drive/MyDrive/Colab Notebooks/data/GNmines/\"\n",
        "images = []\n",
        "for i in range(5):\n",
        "    image = cv2.imread(image_path + str(i) + \".png\")\n",
        "    images.append(image)\n",
        "\n",
        "# Add Gaussian noise to each image\n",
        "noise_level = 50\n",
        "noisy_images = []\n",
        "for image in images:\n",
        "    row, col, ch = image.shape\n",
        "    mean = 0\n",
        "    var = noise_level**2\n",
        "    sigma = var**0.5\n",
        "    gaussian = np.random.normal(mean, sigma, (row, col, ch))\n",
        "    gaussian = gaussian.reshape(row, col, ch)\n",
        "    noisy_image = image + gaussian\n",
        "    noisy_images.append(noisy_image)\n",
        "\n",
        "# Save the noisy images to Google Drive\n",
        "for i, noisy_image in enumerate(noisy_images):\n",
        "    cv2.imwrite(image_path + \"noisy_\" + str(i) + \".png\", noisy_image)\n",
        "\n"
      ]
    }
  ]
}